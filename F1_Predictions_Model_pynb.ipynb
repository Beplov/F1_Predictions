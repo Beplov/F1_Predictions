{
  "nbformat": 4,
  "nbformat_minor": 0,
  "metadata": {
    "colab": {
      "provenance": [],
      "authorship_tag": "ABX9TyPWKn3SV7GmrZtYfJ19cKyZ",
      "include_colab_link": true
    },
    "kernelspec": {
      "name": "python3",
      "display_name": "Python 3"
    },
    "language_info": {
      "name": "python"
    }
  },
  "cells": [
    {
      "cell_type": "markdown",
      "metadata": {
        "id": "view-in-github",
        "colab_type": "text"
      },
      "source": [
        "<a href=\"https://colab.research.google.com/github/Beplov/F1_Predictions/blob/main/F1_Predictions_Model_pynb.ipynb\" target=\"_parent\"><img src=\"https://colab.research.google.com/assets/colab-badge.svg\" alt=\"Open In Colab\"/></a>"
      ]
    },
    {
      "cell_type": "code",
      "execution_count": null,
      "metadata": {
        "id": "QN6Gplh6ZWxd"
      },
      "outputs": [],
      "source": []
    },
    {
      "cell_type": "markdown",
      "source": [
        "# Predictions examples\n",
        "\n",
        "https://towardsdatascience.com/formula-1-race-predictor-5d4bfae887da\n",
        "\n",
        "https://github.com/JaideepGuntupalli/f1-predictor/blob/trunk/model-notebooks/prediction_iter1.ipynb\n",
        "\n",
        "# Data for project"
      ],
      "metadata": {
        "id": "DXOHddr0cCKZ"
      }
    },
    {
      "cell_type": "markdown",
      "source": [
        "https://docs.fastf1.dev/plotting.html\n",
        "https://openf1.org/#api-methods"
      ],
      "metadata": {
        "id": "y4L8z2eBTb-n"
      }
    },
    {
      "cell_type": "markdown",
      "source": [
        "https://www.kaggle.com/code/sevrussnape/data-analytics-project"
      ],
      "metadata": {
        "id": "3KM-sG4nHpm1"
      }
    },
    {
      "cell_type": "code",
      "source": [],
      "metadata": {
        "id": "ajt4Qck_LALG"
      },
      "execution_count": null,
      "outputs": []
    },
    {
      "cell_type": "markdown",
      "source": [
        " RESOURCES THAT WILL BE USED FOR GATHERING DATA:\n",
        "FASTF1\n",
        "ERGSTAT\n",
        "OPENF1.ORG\n",
        "DOCS.FASTF1.DEV\n",
        "RACINGDATA.ORG\n"
      ],
      "metadata": {
        "id": "cR8ExEH-DY-8"
      }
    },
    {
      "cell_type": "code",
      "source": [
        "!pip install fastf1\n",
        "!pip install requests"
      ],
      "metadata": {
        "colab": {
          "base_uri": "https://localhost:8080/"
        },
        "id": "-aCtFQ9hLCY9",
        "outputId": "da9bc2dc-2ac0-4b6d-952b-933f89cec76a"
      },
      "execution_count": 5,
      "outputs": [
        {
          "output_type": "stream",
          "name": "stdout",
          "text": [
            "Requirement already satisfied: fastf1 in /usr/local/lib/python3.10/dist-packages (3.4.3)\n",
            "Requirement already satisfied: matplotlib<4.0.0,>=3.5.1 in /usr/local/lib/python3.10/dist-packages (from fastf1) (3.8.0)\n",
            "Requirement already satisfied: numpy<3.0.0,>=1.23.1 in /usr/local/lib/python3.10/dist-packages (from fastf1) (1.26.4)\n",
            "Requirement already satisfied: pandas<3.0.0,>=1.4.1 in /usr/local/lib/python3.10/dist-packages (from fastf1) (2.2.2)\n",
            "Requirement already satisfied: python-dateutil in /usr/local/lib/python3.10/dist-packages (from fastf1) (2.8.2)\n",
            "Requirement already satisfied: rapidfuzz in /usr/local/lib/python3.10/dist-packages (from fastf1) (3.10.1)\n",
            "Requirement already satisfied: requests-cache>=1.0.0 in /usr/local/lib/python3.10/dist-packages (from fastf1) (1.2.1)\n",
            "Requirement already satisfied: requests>=2.28.1 in /usr/local/lib/python3.10/dist-packages (from fastf1) (2.32.3)\n",
            "Requirement already satisfied: scipy<2.0.0,>=1.8.1 in /usr/local/lib/python3.10/dist-packages (from fastf1) (1.13.1)\n",
            "Requirement already satisfied: timple>=0.1.6 in /usr/local/lib/python3.10/dist-packages (from fastf1) (0.1.8)\n",
            "Requirement already satisfied: websockets>=10.3 in /usr/local/lib/python3.10/dist-packages (from fastf1) (14.0)\n",
            "Requirement already satisfied: contourpy>=1.0.1 in /usr/local/lib/python3.10/dist-packages (from matplotlib<4.0.0,>=3.5.1->fastf1) (1.3.0)\n",
            "Requirement already satisfied: cycler>=0.10 in /usr/local/lib/python3.10/dist-packages (from matplotlib<4.0.0,>=3.5.1->fastf1) (0.12.1)\n",
            "Requirement already satisfied: fonttools>=4.22.0 in /usr/local/lib/python3.10/dist-packages (from matplotlib<4.0.0,>=3.5.1->fastf1) (4.54.1)\n",
            "Requirement already satisfied: kiwisolver>=1.0.1 in /usr/local/lib/python3.10/dist-packages (from matplotlib<4.0.0,>=3.5.1->fastf1) (1.4.7)\n",
            "Requirement already satisfied: packaging>=20.0 in /usr/local/lib/python3.10/dist-packages (from matplotlib<4.0.0,>=3.5.1->fastf1) (24.1)\n",
            "Requirement already satisfied: pillow>=6.2.0 in /usr/local/lib/python3.10/dist-packages (from matplotlib<4.0.0,>=3.5.1->fastf1) (10.4.0)\n",
            "Requirement already satisfied: pyparsing>=2.3.1 in /usr/local/lib/python3.10/dist-packages (from matplotlib<4.0.0,>=3.5.1->fastf1) (3.2.0)\n",
            "Requirement already satisfied: pytz>=2020.1 in /usr/local/lib/python3.10/dist-packages (from pandas<3.0.0,>=1.4.1->fastf1) (2024.2)\n",
            "Requirement already satisfied: tzdata>=2022.7 in /usr/local/lib/python3.10/dist-packages (from pandas<3.0.0,>=1.4.1->fastf1) (2024.2)\n",
            "Requirement already satisfied: six>=1.5 in /usr/local/lib/python3.10/dist-packages (from python-dateutil->fastf1) (1.16.0)\n",
            "Requirement already satisfied: charset-normalizer<4,>=2 in /usr/local/lib/python3.10/dist-packages (from requests>=2.28.1->fastf1) (3.4.0)\n",
            "Requirement already satisfied: idna<4,>=2.5 in /usr/local/lib/python3.10/dist-packages (from requests>=2.28.1->fastf1) (3.10)\n",
            "Requirement already satisfied: urllib3<3,>=1.21.1 in /usr/local/lib/python3.10/dist-packages (from requests>=2.28.1->fastf1) (2.2.3)\n",
            "Requirement already satisfied: certifi>=2017.4.17 in /usr/local/lib/python3.10/dist-packages (from requests>=2.28.1->fastf1) (2024.8.30)\n",
            "Requirement already satisfied: attrs>=21.2 in /usr/local/lib/python3.10/dist-packages (from requests-cache>=1.0.0->fastf1) (24.2.0)\n",
            "Requirement already satisfied: cattrs>=22.2 in /usr/local/lib/python3.10/dist-packages (from requests-cache>=1.0.0->fastf1) (24.1.2)\n",
            "Requirement already satisfied: platformdirs>=2.5 in /usr/local/lib/python3.10/dist-packages (from requests-cache>=1.0.0->fastf1) (4.3.6)\n",
            "Requirement already satisfied: url-normalize>=1.4 in /usr/local/lib/python3.10/dist-packages (from requests-cache>=1.0.0->fastf1) (1.4.3)\n",
            "Requirement already satisfied: exceptiongroup>=1.1.1 in /usr/local/lib/python3.10/dist-packages (from cattrs>=22.2->requests-cache>=1.0.0->fastf1) (1.2.2)\n",
            "Requirement already satisfied: typing-extensions!=4.6.3,>=4.1.0 in /usr/local/lib/python3.10/dist-packages (from cattrs>=22.2->requests-cache>=1.0.0->fastf1) (4.12.2)\n",
            "Requirement already satisfied: requests in /usr/local/lib/python3.10/dist-packages (2.32.3)\n",
            "Requirement already satisfied: charset-normalizer<4,>=2 in /usr/local/lib/python3.10/dist-packages (from requests) (3.4.0)\n",
            "Requirement already satisfied: idna<4,>=2.5 in /usr/local/lib/python3.10/dist-packages (from requests) (3.10)\n",
            "Requirement already satisfied: urllib3<3,>=1.21.1 in /usr/local/lib/python3.10/dist-packages (from requests) (2.2.3)\n",
            "Requirement already satisfied: certifi>=2017.4.17 in /usr/local/lib/python3.10/dist-packages (from requests) (2024.8.30)\n"
          ]
        }
      ]
    },
    {
      "cell_type": "code",
      "source": [
        "import pandas as pd\n",
        "import fastf1\n",
        "\n",
        "from google.colab import drive\n",
        "drive.mount('/content/drive')\n",
        "\n"
      ],
      "metadata": {
        "id": "tXLx1PawZZsE",
        "colab": {
          "base_uri": "https://localhost:8080/"
        },
        "outputId": "8a82b747-1611-4be1-dcbf-4523552c032a"
      },
      "execution_count": 7,
      "outputs": [
        {
          "output_type": "stream",
          "name": "stdout",
          "text": [
            "Mounted at /content/drive\n"
          ]
        }
      ]
    },
    {
      "cell_type": "markdown",
      "source": [
        "In kaggle dataset we have:\n",
        "\n",
        "    Circuits: Information about the racing circuits.\n",
        "    Constructor Results: Results of each constructor in the races.\n",
        "    Constructor Standings: Standings of constructors in the championship.\n",
        "    Constructors: Information about constructors.\n",
        "    Driver Standings: Standings of drivers in the championship.\n",
        "    Drivers: Information about drivers.\n",
        "    Lap Times: Lap times for each driver in each race.\n",
        "    Pit Stops: Data on pit stops during races.\n",
        "    Qualifying: Qualifying results for drivers.\n",
        "    Races: Details of each race.\n",
        "    Results: Results of each race.\n",
        "    Seasons: Information about the seasons.\n",
        "    Sprint Results: Results from sprint races.\n",
        "    Status: Status of drivers in each race.\n"
      ],
      "metadata": {
        "id": "6O9PgOgNPnW-"
      }
    },
    {
      "cell_type": "code",
      "source": [
        "# Load the datasets\n",
        "\n",
        "# Adjust paths to your folder location in Google Drive\n",
        "\n",
        "circuits=pd.read_csv(\"/content/drive/My Drive/f1_project/circuits.csv\")\n",
        "\n",
        "races = pd.read_csv(\"/content/drive/My Drive/f1_project/races.csv\")\n",
        "drivers = pd.read_csv(\"/content/drive/My Drive/f1_project/drivers.csv\")\n",
        "driver_standings=pd.read_csv(\"/content/drive/My Drive/f1_project/driver_standings.csv\")\n",
        "\n",
        "results = pd.read_csv(\"/content/drive/My Drive/f1_project/results.csv\")\n",
        "seasons=pd.read_csv(\"/content/drive/My Drive/f1_project/seasons.csv\")\n",
        "constructors=pd.read_csv(\"/content/drive/My Drive/f1_project/constructors.csv\")\n",
        "constructors_results=pd.read_csv(\"/content/drive/My Drive/f1_project/constructor_results.csv\")\n",
        "constructor_standings=pd.read_csv(\"/content/drive/My Drive/f1_project/constructor_standings.csv\")\n",
        "lap_times=pd.read_csv(\"/content/drive/My Drive/f1_project/lap_times.csv\")\n",
        "qualifying=pd.read_csv(\"/content/drive/My Drive/f1_project/qualifying.csv\")\n",
        "pit_stops=pd.read_csv(\"/content/drive/My Drive/f1_project/pit_stops.csv\")\n",
        "sprint_results=pd.read_csv(\"/content/drive/My Drive/f1_project/sprint_results.csv\")\n",
        "status=pd.read_csv(\"/content/drive/My Drive/f1_project/status.csv\")\n",
        "\n",
        "\n",
        "\n"
      ],
      "metadata": {
        "id": "GlfVl36OLNP9"
      },
      "execution_count": 9,
      "outputs": []
    },
    {
      "cell_type": "code",
      "source": [
        "from urllib.request import urlopen\n",
        "import json\n",
        "\n",
        "response = urlopen('https://api.openf1.org/v1/weather?meeting_key=1208&wind_direction>=130&track_temperature>=52')\n",
        "data = json.loads(response.read().decode('utf-8'))\n",
        "print(data)\n",
        "\n",
        "# are we sure we want to use it\n"
      ],
      "metadata": {
        "colab": {
          "base_uri": "https://localhost:8080/"
        },
        "id": "5_67GW2VQuUV",
        "outputId": "200f00aa-fd6a-40cd-eb06-3d372cc60ad0"
      },
      "execution_count": 20,
      "outputs": [
        {
          "output_type": "stream",
          "name": "stdout",
          "text": [
            "[{'air_temperature': 27.8, 'humidity': 58.0, 'pressure': 1018.7, 'rainfall': 0, 'track_temperature': 52.5, 'wind_direction': 136, 'wind_speed': 2.4, 'date': '2023-05-07T18:42:25.233000+00:00', 'session_key': 9078, 'meeting_key': 1208}]\n"
          ]
        }
      ]
    },
    {
      "cell_type": "code",
      "source": [
        "from matplotlib import pyplot as plt\n",
        "import fastf1\n",
        "import fastf1.plotting\n",
        "\n",
        "\n",
        "session = fastf1.get_session(2023, 'Las Vegas', 'R')  # 2023, Las Vegas, Race\n",
        "session.load()\n",
        "# Access weather data from the session\n",
        "weather_data = session.weather\n",
        "\n",
        "\n",
        "\n",
        "# Print out the weather data\n",
        "print(weather_data)"
      ],
      "metadata": {
        "colab": {
          "base_uri": "https://localhost:8080/",
          "height": 716
        },
        "id": "cXXJQscIVr0B",
        "outputId": "76bd8534-d89f-4a66-a652-adffdfb34a10"
      },
      "execution_count": 26,
      "outputs": [
        {
          "output_type": "stream",
          "name": "stderr",
          "text": [
            "core           INFO \tLoading data for Las Vegas Grand Prix - Race [v3.4.3]\n",
            "INFO:fastf1.fastf1.core:Loading data for Las Vegas Grand Prix - Race [v3.4.3]\n",
            "req            INFO \tUsing cached data for session_info\n",
            "INFO:fastf1.fastf1.req:Using cached data for session_info\n",
            "req            INFO \tUsing cached data for driver_info\n",
            "INFO:fastf1.fastf1.req:Using cached data for driver_info\n",
            "req            INFO \tUsing cached data for session_status_data\n",
            "INFO:fastf1.fastf1.req:Using cached data for session_status_data\n",
            "req            INFO \tUsing cached data for lap_count\n",
            "INFO:fastf1.fastf1.req:Using cached data for lap_count\n",
            "req            INFO \tUsing cached data for track_status_data\n",
            "INFO:fastf1.fastf1.req:Using cached data for track_status_data\n",
            "req            INFO \tUsing cached data for _extended_timing_data\n",
            "INFO:fastf1.fastf1.req:Using cached data for _extended_timing_data\n",
            "req            INFO \tUsing cached data for timing_app_data\n",
            "INFO:fastf1.fastf1.req:Using cached data for timing_app_data\n",
            "core           INFO \tProcessing timing data...\n",
            "INFO:fastf1.fastf1.core:Processing timing data...\n",
            "req            INFO \tUsing cached data for car_data\n",
            "INFO:fastf1.fastf1.req:Using cached data for car_data\n",
            "req            INFO \tUsing cached data for position_data\n",
            "INFO:fastf1.fastf1.req:Using cached data for position_data\n",
            "req            INFO \tUsing cached data for weather_data\n",
            "INFO:fastf1.fastf1.req:Using cached data for weather_data\n",
            "req            INFO \tUsing cached data for race_control_messages\n",
            "INFO:fastf1.fastf1.req:Using cached data for race_control_messages\n",
            "core           INFO \tFinished loading data for 20 drivers: ['1', '16', '11', '31', '18', '55', '44', '63', '14', '81', '10', '23', '20', '3', '24', '2', '77', '22', '27', '4']\n",
            "INFO:fastf1.fastf1.core:Finished loading data for 20 drivers: ['1', '16', '11', '31', '18', '55', '44', '63', '14', '81', '10', '23', '20', '3', '24', '2', '77', '22', '27', '4']\n"
          ]
        },
        {
          "output_type": "error",
          "ename": "AttributeError",
          "evalue": "'Session' object has no attribute 'weather'",
          "traceback": [
            "\u001b[0;31m---------------------------------------------------------------------------\u001b[0m",
            "\u001b[0;31mAttributeError\u001b[0m                            Traceback (most recent call last)",
            "\u001b[0;32m<ipython-input-26-3b4358972bc0>\u001b[0m in \u001b[0;36m<cell line: 9>\u001b[0;34m()\u001b[0m\n\u001b[1;32m      7\u001b[0m \u001b[0msession\u001b[0m\u001b[0;34m.\u001b[0m\u001b[0mload\u001b[0m\u001b[0;34m(\u001b[0m\u001b[0;34m)\u001b[0m\u001b[0;34m\u001b[0m\u001b[0;34m\u001b[0m\u001b[0m\n\u001b[1;32m      8\u001b[0m \u001b[0;31m# Access weather data from the session\u001b[0m\u001b[0;34m\u001b[0m\u001b[0;34m\u001b[0m\u001b[0m\n\u001b[0;32m----> 9\u001b[0;31m \u001b[0mweather_data\u001b[0m \u001b[0;34m=\u001b[0m \u001b[0msession\u001b[0m\u001b[0;34m.\u001b[0m\u001b[0mweather\u001b[0m\u001b[0;34m\u001b[0m\u001b[0;34m\u001b[0m\u001b[0m\n\u001b[0m\u001b[1;32m     10\u001b[0m \u001b[0;34m\u001b[0m\u001b[0m\n\u001b[1;32m     11\u001b[0m \u001b[0;34m\u001b[0m\u001b[0m\n",
            "\u001b[0;31mAttributeError\u001b[0m: 'Session' object has no attribute 'weather'"
          ]
        }
      ]
    },
    {
      "cell_type": "code",
      "source": [],
      "metadata": {
        "colab": {
          "base_uri": "https://localhost:8080/",
          "height": 108
        },
        "id": "dVLyOw2ZbdG4",
        "outputId": "11f4c5e5-cae9-43e6-8b60-0f543c6a0261"
      },
      "execution_count": 27,
      "outputs": [
        {
          "output_type": "error",
          "ename": "SyntaxError",
          "evalue": "invalid syntax (<ipython-input-27-840bf2cf5837>, line 1)",
          "traceback": [
            "\u001b[0;36m  File \u001b[0;32m\"<ipython-input-27-840bf2cf5837>\"\u001b[0;36m, line \u001b[0;32m1\u001b[0m\n\u001b[0;31m    class fastf1.core.Telemetry(*args, session=None, driver=None, drop_unknown_channels=False, **kwargs)\u001b[0m\n\u001b[0m                ^\u001b[0m\n\u001b[0;31mSyntaxError\u001b[0m\u001b[0;31m:\u001b[0m invalid syntax\n"
          ]
        }
      ]
    },
    {
      "cell_type": "code",
      "source": [
        "session"
      ],
      "metadata": {
        "colab": {
          "base_uri": "https://localhost:8080/"
        },
        "id": "WR8NuhgjQ6Jo",
        "outputId": "2ce47a7e-0a4f-4639-d9b5-d17804acf9ab"
      },
      "execution_count": 23,
      "outputs": [
        {
          "output_type": "execute_result",
          "data": {
            "text/plain": [
              "2023 Season Round 21: Las Vegas Grand Prix - Qualifying"
            ]
          },
          "metadata": {},
          "execution_count": 23
        }
      ]
    }
  ]
}